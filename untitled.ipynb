{
  "nbformat": 4,
  "nbformat_minor": 0,
  "metadata": {
    "colab": {
      "provenance": []
    },
    "kernelspec": {
      "name": "python3",
      "display_name": "Python 3"
    },
    "language_info": {
      "name": "python"
    }
  },
  "cells": [
    {
      "cell_type": "code",
      "execution_count": null,
      "metadata": {
        "id": "hMBUklFGGACP"
      },
      "outputs": [],
      "source": [
        "import numpy as np\n",
        "import pandas as pd"
      ]
    },
    {
      "cell_type": "code",
      "source": [
        "np.random.seed(42)\n"
      ],
      "metadata": {
        "id": "kOXKkE-9GDzj"
      },
      "execution_count": null,
      "outputs": []
    },
    {
      "cell_type": "code",
      "source": [
        "n_samples = 1000\n",
        "age = np.random.randint(18, 90, n_samples)\n",
        "weight = np.random.uniform(50, 120, n_samples)  # Use uniform distribution for float values\n",
        "blood_pressure = np.random.uniform(80, 180, n_samples)  # Use uniform distribution for float values\n",
        "cholesterol = np.random.uniform(150, 300, n_samples)  # Use uniform distribution for float values\n",
        "condition = np.random.choice([0, 1], n_samples)"
      ],
      "metadata": {
        "id": "cRcaFBwhGZvl"
      },
      "execution_count": null,
      "outputs": []
    },
    {
      "cell_type": "code",
      "source": [
        "weight[np.random.choice(n_samples, 50, replace=False)] = np.nan\n",
        "cholesterol[np.random.choice(n_samples, 30, replace=False)] = np.nan\n"
      ],
      "metadata": {
        "id": "DWxxKwS_Gc-9"
      },
      "execution_count": null,
      "outputs": []
    },
    {
      "cell_type": "code",
      "source": [
        "data = pd.DataFrame({\n",
        "    'Age': age,\n",
        "    'Weight': weight,\n",
        "    'BloodPressure': blood_pressure,\n",
        "    'Cholesterol': cholesterol,\n",
        "    'Condition': condition\n",
        "})\n"
      ],
      "metadata": {
        "id": "9yjTwJdzGf49"
      },
      "execution_count": null,
      "outputs": []
    },
    {
      "cell_type": "code",
      "source": [
        "print(data.head())\n",
        "print(\"Missing values in each column:\\n\", data.isnull().sum())\n"
      ],
      "metadata": {
        "colab": {
          "base_uri": "https://localhost:8080/"
        },
        "id": "mAMSnYwpHBBV",
        "outputId": "4d606ae8-6f64-4201-90ec-a1117b6a2373"
      },
      "execution_count": null,
      "outputs": [
        {
          "output_type": "stream",
          "name": "stdout",
          "text": [
            "   Age      Weight  BloodPressure  Cholesterol  Condition\n",
            "0   86  112.078863     120.738228   252.409095          0\n",
            "1   75  112.219857      97.740947   255.113800          0\n",
            "2   61  102.201361      90.963628   259.000570          1\n",
            "3   73   52.460989     136.703278   291.390405          1\n",
            "4   60   90.254929     172.833577   274.828673          1\n",
            "Missing values in each column:\n",
            " Age               0\n",
            "Weight           50\n",
            "BloodPressure     0\n",
            "Cholesterol      30\n",
            "Condition         0\n",
            "dtype: int64\n"
          ]
        }
      ]
    },
    {
      "cell_type": "code",
      "source": [
        "data['Weight'].fillna(data['Weight'].mean(), inplace=True)\n",
        "data['Cholesterol'].fillna(data['Cholesterol'].mean(), inplace=True)"
      ],
      "metadata": {
        "id": "x6-YIoHkHIMj"
      },
      "execution_count": null,
      "outputs": []
    },
    {
      "cell_type": "code",
      "source": [
        "print(\"Missing values after imputation:\\n\", data.isnull().sum())\n"
      ],
      "metadata": {
        "colab": {
          "base_uri": "https://localhost:8080/"
        },
        "id": "I3qjyI7gHUJt",
        "outputId": "17c90871-0cb1-4484-f3e4-4ca814a8a039"
      },
      "execution_count": null,
      "outputs": [
        {
          "output_type": "stream",
          "name": "stdout",
          "text": [
            "Missing values after imputation:\n",
            " Age              0\n",
            "Weight           0\n",
            "BloodPressure    0\n",
            "Cholesterol      0\n",
            "Condition        0\n",
            "dtype: int64\n"
          ]
        }
      ]
    },
    {
      "cell_type": "code",
      "source": [
        "def remove_outliers(df, column):\n",
        "    Q1 = df[column].quantile(0.25)\n",
        "    Q3 = df[column].quantile(0.75)\n",
        "    IQR = Q3 - Q1\n",
        "    lower_bound = Q1 - 1.5 * IQR\n",
        "    upper_bound = Q3 + 1.5 * IQR\n",
        "    return df[(df[column] >= lower_bound) & (df[column] <= upper_bound)]"
      ],
      "metadata": {
        "id": "ZwaQN8WsHnt0"
      },
      "execution_count": null,
      "outputs": []
    },
    {
      "cell_type": "code",
      "source": [
        "data = remove_outliers(data, 'BloodPressure')\n",
        "data = remove_outliers(data, 'Cholesterol')"
      ],
      "metadata": {
        "id": "dR2o58ZHHrtI"
      },
      "execution_count": null,
      "outputs": []
    },
    {
      "cell_type": "code",
      "source": [
        "print(\"Data shape after outlier removal:\", data.shape)\n"
      ],
      "metadata": {
        "colab": {
          "base_uri": "https://localhost:8080/"
        },
        "id": "w5diUd29Hubs",
        "outputId": "dd7275c9-e080-4079-e292-8357d274c77c"
      },
      "execution_count": null,
      "outputs": [
        {
          "output_type": "stream",
          "name": "stdout",
          "text": [
            "Data shape after outlier removal: (1000, 5)\n"
          ]
        }
      ]
    },
    {
      "cell_type": "code",
      "source": [
        "from sklearn.preprocessing import StandardScaler\n"
      ],
      "metadata": {
        "id": "DP4bbqkMHwE4"
      },
      "execution_count": null,
      "outputs": []
    },
    {
      "cell_type": "code",
      "source": [
        "features = ['Age', 'Weight', 'BloodPressure', 'Cholesterol']\n",
        "target = 'Condition'"
      ],
      "metadata": {
        "id": "XYz2LHmYHycU"
      },
      "execution_count": null,
      "outputs": []
    },
    {
      "cell_type": "code",
      "source": [
        "scaler = StandardScaler()\n"
      ],
      "metadata": {
        "id": "N3ZsHVneH1Uy"
      },
      "execution_count": null,
      "outputs": []
    },
    {
      "cell_type": "code",
      "source": [
        "data[features] = scaler.fit_transform(data[features])\n"
      ],
      "metadata": {
        "id": "t507fHIQH38v"
      },
      "execution_count": null,
      "outputs": []
    },
    {
      "cell_type": "code",
      "source": [
        "print(data.head())\n"
      ],
      "metadata": {
        "colab": {
          "base_uri": "https://localhost:8080/"
        },
        "id": "W_vUTGPlH59F",
        "outputId": "69b71b9c-3667-4451-84f2-ff243c00695d"
      },
      "execution_count": null,
      "outputs": [
        {
          "output_type": "stream",
          "name": "stdout",
          "text": [
            "        Age    Weight  BloodPressure  Cholesterol  Condition\n",
            "0  1.602997  1.339397      -0.346788     0.683754          0\n",
            "1  1.069408  1.346518      -1.130588     0.748416          0\n",
            "2  0.390296  0.840575      -1.361574     0.841336          1\n",
            "3  0.972392 -1.671354       0.197338     1.615676          1\n",
            "4  0.341788  0.237271       1.428741     1.219737          1\n"
          ]
        }
      ]
    },
    {
      "cell_type": "code",
      "source": [
        "from sklearn.model_selection import train_test_split\n"
      ],
      "metadata": {
        "id": "ii7txd-5H8po"
      },
      "execution_count": null,
      "outputs": []
    },
    {
      "cell_type": "code",
      "source": [
        "X = data[features]\n",
        "y = data[target]"
      ],
      "metadata": {
        "id": "pkvIIoQ-H_DU"
      },
      "execution_count": null,
      "outputs": []
    },
    {
      "cell_type": "code",
      "source": [
        "X_train, X_test, y_train, y_test = train_test_split(X, y, test_size=0.2, random_state=42)\n"
      ],
      "metadata": {
        "id": "7l-nvwIkIAxy"
      },
      "execution_count": null,
      "outputs": []
    },
    {
      "cell_type": "code",
      "source": [
        "print(\"Training set shape:\", X_train.shape)\n",
        "print(\"Testing set shape:\", X_test.shape)"
      ],
      "metadata": {
        "colab": {
          "base_uri": "https://localhost:8080/"
        },
        "id": "nQCT3oRrICNx",
        "outputId": "3823d5e9-c424-4ec3-b826-baf80e180220"
      },
      "execution_count": null,
      "outputs": [
        {
          "output_type": "stream",
          "name": "stdout",
          "text": [
            "Training set shape: (800, 4)\n",
            "Testing set shape: (200, 4)\n"
          ]
        }
      ]
    },
    {
      "cell_type": "code",
      "source": [],
      "metadata": {
        "id": "R3whr7IpIEGw"
      },
      "execution_count": null,
      "outputs": []
    }
  ]
}